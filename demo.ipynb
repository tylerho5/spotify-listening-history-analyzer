{
 "cells": [
  {
   "cell_type": "markdown",
   "id": "10951658",
   "metadata": {},
   "source": [
    "# Spotify Listening History Analyzer  \n",
    "This notebook will walk you through loading your Spotify listening history, exploring your top songs and artists, total listening time, and more—all with interactive controls and beautiful charts."
   ]
  },
  {
   "cell_type": "markdown",
   "id": "5f4e302d",
   "metadata": {},
   "source": [
    "## Setup\n",
    "Make sure to follow the dependency installation instructions in the project README before running this notebook.\n",
    "\n",
    "Place \n",
    "\n",
    "Enter the year of your data below and how you want the data presented"
   ]
  },
  {
   "cell_type": "code",
   "execution_count": null,
   "id": "aa05baa3",
   "metadata": {},
   "outputs": [],
   "source": [
    "year = 2024 # change this to the year your data is for \n",
    "\n",
    "# options are \"list\" or \"graph\", list mode by default\n",
    "mode = \"graph\" "
   ]
  },
  {
   "cell_type": "code",
   "execution_count": null,
   "id": "bb0ff982",
   "metadata": {},
   "outputs": [],
   "source": [
    "import HistoryAnalyzer as h\n",
    "\n",
    "analyzer = h.HistoryAnalyzer(current_year=year, type = mode)\n"
   ]
  },
  {
   "cell_type": "markdown",
   "id": "8451b87b",
   "metadata": {},
   "source": [
    "## Top Songs  \n",
    "Below are your most-played tracks for the year."
   ]
  },
  {
   "cell_type": "code",
   "execution_count": null,
   "id": "ffc3d865",
   "metadata": {},
   "outputs": [],
   "source": [
    "# show top songs list\n",
    "analyzer.topSongs()\n"
   ]
  },
  {
   "cell_type": "markdown",
   "id": "d2de72ed",
   "metadata": {},
   "source": [
    "## Top Artists  \n",
    "Charts for the artists you played most during the year"
   ]
  },
  {
   "cell_type": "code",
   "execution_count": null,
   "id": "9de754f4",
   "metadata": {},
   "outputs": [],
   "source": [
    "# show top artists chart\n",
    "analyzer.topArtists()"
   ]
  },
  {
   "cell_type": "markdown",
   "id": "fb632dca",
   "metadata": {},
   "source": [
    "## Total Listening Time  \n",
    "How many hours you spent listening per month during the year."
   ]
  },
  {
   "cell_type": "code",
   "execution_count": null,
   "id": "3e482aac",
   "metadata": {},
   "outputs": [],
   "source": [
    "# show listening time per month over the year\n",
    "analyzer.listeningTimePerMonth()"
   ]
  },
  {
   "cell_type": "markdown",
   "id": "b517a454",
   "metadata": {},
   "source": [
    "## Number of Unique Songs  \n",
    "How many distinct tracks you streamed over the year."
   ]
  },
  {
   "cell_type": "code",
   "execution_count": null,
   "id": "68616183",
   "metadata": {},
   "outputs": [],
   "source": [
    "# show the number of unique songs listened to during the year\n",
    "analyzer.howManySongs()"
   ]
  }
 ],
 "metadata": {
  "kernelspec": {
   "display_name": "spotify-env",
   "language": "python",
   "name": "python3"
  },
  "language_info": {
   "codemirror_mode": {
    "name": "ipython",
    "version": 3
   },
   "file_extension": ".py",
   "mimetype": "text/x-python",
   "name": "python",
   "nbconvert_exporter": "python",
   "pygments_lexer": "ipython3",
   "version": "3.11.11"
  }
 },
 "nbformat": 4,
 "nbformat_minor": 5
}
